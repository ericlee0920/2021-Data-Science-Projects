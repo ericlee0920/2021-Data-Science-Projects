{
 "cells": [
  {
   "cell_type": "code",
   "execution_count": 653,
   "metadata": {},
   "outputs": [],
   "source": [
    "import numpy as np\n",
    "import pandas as pd\n",
    "from sklearn.ensemble import RandomForestRegressor\n",
    "from sklearn.model_selection import train_test_split\n",
    "from sklearn.metrics import mean_squared_error\n",
    "from sklearn import metrics\n",
    "from matplotlib import pyplot"
   ]
  },
  {
   "cell_type": "code",
   "execution_count": 654,
   "metadata": {},
   "outputs": [],
   "source": [
    "calgary_data = \"Calgary_Factors.csv\"\n",
    "edmonton_data = \"Edmonton_Factors.csv\"\n",
    "montreal_data = \"Montreal_Factors.csv\"\n",
    "peel_data = \"Peel_Factors.csv\"\n",
    "toronto_data = \"Toronto_Factors.csv\""
   ]
  },
  {
   "cell_type": "code",
   "execution_count": 655,
   "metadata": {},
   "outputs": [],
   "source": [
    "def random_forest_regression(data):\n",
    "    usecols = range(1, 11)\n",
    "    df = pd.read_csv(data)\n",
    "    x = df[[\"Mean Temp (C)\", \"Total Precip (mm)\", \"Avg Rel Hum (%)\", \"Avg Wind Spd (km/h)\", \"Daylight (hrs)\", \"Mean UV\"]]\n",
    "    y = df[[\"Cases\"]]\n",
    "    x_train, x_test, y_train, y_test = train_test_split(x, y, test_size = 0.33, random_state = 42)\n",
    "    random_forest_regression_model = RandomForestRegressor(n_estimators = 100, min_samples_split = 2, oob_score = True, bootstrap = True, criterion = \"mse\")\n",
    "    random_forest_regression_model.fit(x_train, y_train.values.ravel())\n",
    "    y_pred = random_forest_regression_model.predict(x_test)\n",
    "    \n",
    "    print('R^2 Training Score: {:.2f} \\nOOB Score: {:.2f} \\nR^2 Validation Score: {:.2f}'.format(random_forest_regression_model.score(x_train, y_train), \n",
    "                                                                                             random_forest_regression_model.oob_score_,\n",
    "                                                                                            random_forest_regression_model.score(x_test, y_test)))\n",
    "    \n",
    "    importance = random_forest_regression_model.feature_importances_ \n",
    "    # summarize feature importance\n",
    "    for i,v in enumerate(importance):\n",
    "        print('Feature: %0d, Score: %.5f' % (i,v))\n",
    "        # plot feature importance\n",
    "    pyplot.bar([x for x in range(len(importance))], importance)\n",
    "    pyplot.show()"
   ]
  },
  {
   "cell_type": "code",
   "execution_count": 656,
   "metadata": {},
   "outputs": [
    {
     "name": "stdout",
     "output_type": "stream",
     "text": [
      "R^2 Training Score: 0.92 \n",
      "OOB Score: 0.29 \n",
      "R^2 Validation Score: 0.26\n",
      "Feature: 0, Score: 0.08629\n",
      "Feature: 1, Score: 0.02269\n",
      "Feature: 2, Score: 0.09545\n",
      "Feature: 3, Score: 0.10461\n",
      "Feature: 4, Score: 0.65747\n",
      "Feature: 5, Score: 0.03349\n"
     ]
    },
    {
     "data": {
      "image/png": "[encoded data removed]",
      "text/plain": [
       "<Figure size 432x288 with 1 Axes>"
      ]
     },
     "metadata": {
      "needs_background": "light"
     },
     "output_type": "display_data"
    }
   ],
   "source": [
    "random_forest_regression(calgary_data)"
   ]
  },
  {
   "cell_type": "code",
   "execution_count": 657,
   "metadata": {},
   "outputs": [
    {
     "name": "stdout",
     "output_type": "stream",
     "text": [
      "R^2 Training Score: 0.92 \n",
      "OOB Score: 0.45 \n",
      "R^2 Validation Score: 0.37\n",
      "Feature: 0, Score: 0.08137\n",
      "Feature: 1, Score: 0.02911\n",
      "Feature: 2, Score: 0.11086\n",
      "Feature: 3, Score: 0.12784\n",
      "Feature: 4, Score: 0.63926\n",
      "Feature: 5, Score: 0.01156\n"
     ]
    },
    {
     "data": {
      "image/png": "[encoded data removed]",
      "text/plain": [
       "<Figure size 432x288 with 1 Axes>"
      ]
     },
     "metadata": {
      "needs_background": "light"
     },
     "output_type": "display_data"
    }
   ],
   "source": [
    "random_forest_regression(edmonton_data)"
   ]
  },
  {
   "cell_type": "code",
   "execution_count": 658,
   "metadata": {},
   "outputs": [
    {
     "name": "stdout",
     "output_type": "stream",
     "text": [
      "R^2 Training Score: 0.90 \n",
      "OOB Score: 0.30 \n",
      "R^2 Validation Score: 0.55\n",
      "Feature: 0, Score: 0.17172\n",
      "Feature: 1, Score: 0.05711\n",
      "Feature: 2, Score: 0.08830\n",
      "Feature: 3, Score: 0.20631\n",
      "Feature: 4, Score: 0.40321\n",
      "Feature: 5, Score: 0.07336\n"
     ]
    },
    {
     "data": {
      "image/png": "[encoded data removed]",
      "text/plain": [
       "<Figure size 432x288 with 1 Axes>"
      ]
     },
     "metadata": {
      "needs_background": "light"
     },
     "output_type": "display_data"
    }
   ],
   "source": [
    "random_forest_regression(montreal_data)"
   ]
  },
  {
   "cell_type": "code",
   "execution_count": 659,
   "metadata": {},
   "outputs": [
    {
     "name": "stdout",
     "output_type": "stream",
     "text": [
      "R^2 Training Score: 0.98 \n",
      "OOB Score: 0.84 \n",
      "R^2 Validation Score: 0.87\n",
      "Feature: 0, Score: 0.06226\n",
      "Feature: 1, Score: 0.00760\n",
      "Feature: 2, Score: 0.02657\n",
      "Feature: 3, Score: 0.02104\n",
      "Feature: 4, Score: 0.87694\n",
      "Feature: 5, Score: 0.00559\n"
     ]
    },
    {
     "data": {
      "image/png": "[encoded data removed]",
      "text/plain": [
       "<Figure size 432x288 with 1 Axes>"
      ]
     },
     "metadata": {
      "needs_background": "light"
     },
     "output_type": "display_data"
    }
   ],
   "source": [
    "random_forest_regression(peel_data)"
   ]
  },
  {
   "cell_type": "code",
   "execution_count": 660,
   "metadata": {},
   "outputs": [
    {
     "name": "stdout",
     "output_type": "stream",
     "text": [
      "R^2 Training Score: 0.92 \n",
      "OOB Score: 0.46 \n",
      "R^2 Validation Score: 0.64\n",
      "Feature: 0, Score: 0.15433\n",
      "Feature: 1, Score: 0.08249\n",
      "Feature: 2, Score: 0.06721\n",
      "Feature: 3, Score: 0.07643\n",
      "Feature: 4, Score: 0.60560\n",
      "Feature: 5, Score: 0.01395\n"
     ]
    },
    {
     "data": {
      "image/png": "[encoded data removed]",
      "text/plain": [
       "<Figure size 432x288 with 1 Axes>"
      ]
     },
     "metadata": {
      "needs_background": "light"
     },
     "output_type": "display_data"
    }
   ],
   "source": [
    "random_forest_regression(toronto_data)"
   ]
  },
  {
   "cell_type": "code",
   "execution_count": null,
   "metadata": {},
   "outputs": [],
   "source": []
  }
 ],
 "metadata": {
  "kernelspec": {
   "display_name": "Python 3",
   "language": "python",
   "name": "python3"
  },
  "language_info": {
   "codemirror_mode": {
    "name": "ipython",
    "version": 3
   },
   "file_extension": ".py",
   "mimetype": "text/x-python",
   "name": "python",
   "nbconvert_exporter": "python",
   "pygments_lexer": "ipython3",
   "version": "3.8.5"
  }
 },
 "nbformat": 4,
 "nbformat_minor": 4
}
