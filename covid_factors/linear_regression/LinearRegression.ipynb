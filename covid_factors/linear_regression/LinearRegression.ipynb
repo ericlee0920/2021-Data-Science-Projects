{
 "cells": [
  {
   "cell_type": "code",
   "execution_count": 6,
   "metadata": {},
   "outputs": [],
   "source": [
    "import numpy as np\n",
    "import pandas as pd\n",
    "import matplotlib as plt\n",
    "import statsmodels.api as sm"
   ]
  },
  {
   "cell_type": "code",
   "execution_count": 7,
   "metadata": {},
   "outputs": [],
   "source": [
    "calgarydata = pd.read_csv(\"/Users/meganwong/untitled_bc_analysis/URO/covid-factors/datasets/Calgary_Factors.csv\")\n",
    "edmontondata = pd.read_csv(\"/Users/meganwong/untitled_bc_analysis/URO/covid-factors/datasets/Edmonton_Factors.csv\")\n",
    "montrealdata = pd.read_csv(\"/Users/meganwong/untitled_bc_analysis/URO/covid-factors/datasets/Montreal_Factors.csv\")\n",
    "peeldata = pd.read_csv(\"/Users/meganwong/untitled_bc_analysis/URO/covid-factors/datasets/Peel_Factors.csv\")\n",
    "torontodata = pd.read_csv(\"/Users/meganwong/untitled_bc_analysis/URO/covid-factors/datasets/Toronto_Factors.csv\")"
   ]
  },
  {
   "cell_type": "code",
   "execution_count": 5,
   "metadata": {},
   "outputs": [],
   "source": [
    "def linreg(data):\n",
    "    x = data[[\"Mean Temp (C)\", \"Total Precip (mm)\", \"Avg Rel Hum (%)\", \"Avg Wind Spd (km/h)\", \"Daylight (hrs)\", \"Mean UV\"]]\n",
    "    y = data[[\"Cases\"]]\n",
    "    model = sm.OLS(y,x).fit()\n",
    "    print(model.summary())\n",
    "    return"
   ]
  },
  {
   "cell_type": "code",
   "execution_count": 8,
   "metadata": {},
   "outputs": [
    {
     "output_type": "stream",
     "name": "stdout",
     "text": [
      "                                 OLS Regression Results                                \n=======================================================================================\nDep. Variable:                  Cases   R-squared (uncentered):                   0.319\nModel:                            OLS   Adj. R-squared (uncentered):              0.308\nMethod:                 Least Squares   F-statistic:                              28.66\nDate:                Tue, 23 Feb 2021   Prob (F-statistic):                    4.26e-28\nTime:                        18:27:32   Log-Likelihood:                         -2521.5\nNo. Observations:                 373   AIC:                                      5055.\nDf Residuals:                     367   BIC:                                      5078.\nDf Model:                           6                                                  \nCovariance Type:            nonrobust                                                  \n=======================================================================================\n                          coef    std err          t      P>|t|      [0.025      0.975]\n---------------------------------------------------------------------------------------\nMean Temp (C)           2.9314      2.058      1.424      0.155      -1.116       6.979\nTotal Precip (mm)      -5.9563      2.252     -2.645      0.009     -10.385      -1.528\nAvg Rel Hum (%)         3.2568      0.787      4.137      0.000       1.709       4.805\nAvg Wind Spd (km/h)     2.3746      2.332      1.018      0.309      -2.212       6.961\nDaylight (hrs)         -1.8180      7.557     -0.241      0.810     -16.678      13.042\nMean UV               -24.5050     10.048     -2.439      0.015     -44.265      -4.745\n==============================================================================\nOmnibus:                      264.695   Durbin-Watson:                   1.191\nProb(Omnibus):                  0.000   Jarque-Bera (JB):             3648.074\nSkew:                           2.858   Prob(JB):                         0.00\nKurtosis:                      17.214   Cond. No.                         74.4\n==============================================================================\n\nNotes:\n[1] R² is computed without centering (uncentered) since the model does not contain a constant.\n[2] Standard Errors assume that the covariance matrix of the errors is correctly specified.\n"
     ]
    }
   ],
   "source": [
    "linreg(calgarydata)"
   ]
  },
  {
   "cell_type": "code",
   "execution_count": 5,
   "metadata": {},
   "outputs": [
    {
     "name": "stdout",
     "output_type": "stream",
     "text": [
      "                                 OLS Regression Results                                \n",
      "=======================================================================================\n",
      "Dep. Variable:                  Cases   R-squared (uncentered):                   0.401\n",
      "Model:                            OLS   Adj. R-squared (uncentered):              0.391\n",
      "Method:                 Least Squares   F-statistic:                              40.90\n",
      "Date:                Mon, 22 Feb 2021   Prob (F-statistic):                    4.40e-38\n",
      "Time:                        02:02:55   Log-Likelihood:                         -2566.6\n",
      "No. Observations:                 373   AIC:                                      5145.\n",
      "Df Residuals:                     367   BIC:                                      5169.\n",
      "Df Model:                           6                                                  \n",
      "Covariance Type:            nonrobust                                                  \n",
      "=======================================================================================\n",
      "                          coef    std err          t      P>|t|      [0.025      0.975]\n",
      "---------------------------------------------------------------------------------------\n",
      "Mean Temp (C)           3.8912      1.986      1.959      0.051      -0.015       7.798\n",
      "Total Precip (mm)      -9.0782      3.132     -2.899      0.004     -15.237      -2.920\n",
      "Avg Rel Hum (%)         8.4343      0.870      9.698      0.000       6.724      10.145\n",
      "Avg Wind Spd (km/h)     7.4524      3.300      2.258      0.025       0.963      13.942\n",
      "Daylight (hrs)        -46.7487      8.676     -5.389      0.000     -63.809     -29.689\n",
      "Mean UV                15.4364     12.930      1.194      0.233      -9.991      40.863\n",
      "==============================================================================\n",
      "Omnibus:                      254.728   Durbin-Watson:                   1.268\n",
      "Prob(Omnibus):                  0.000   Jarque-Bera (JB):             3714.119\n",
      "Skew:                           2.678   Prob(JB):                         0.00\n",
      "Kurtosis:                      17.502   Cond. No.                         84.3\n",
      "==============================================================================\n",
      "\n",
      "Notes:\n",
      "[1] R² is computed without centering (uncentered) since the model does not contain a constant.\n",
      "[2] Standard Errors assume that the covariance matrix of the errors is correctly specified.\n"
     ]
    }
   ],
   "source": [
    "linreg(edmontondata)"
   ]
  },
  {
   "cell_type": "code",
   "execution_count": 9,
   "metadata": {},
   "outputs": [
    {
     "output_type": "stream",
     "name": "stdout",
     "text": [
      "                                 OLS Regression Results                                \n=======================================================================================\nDep. Variable:                  Cases   R-squared (uncentered):                   0.501\nModel:                            OLS   Adj. R-squared (uncentered):              0.493\nMethod:                 Least Squares   F-statistic:                              61.48\nDate:                Tue, 23 Feb 2021   Prob (F-statistic):                    1.57e-52\nTime:                        18:27:34   Log-Likelihood:                         -2634.5\nNo. Observations:                 373   AIC:                                      5281.\nDf Residuals:                     367   BIC:                                      5305.\nDf Model:                           6                                                  \nCovariance Type:            nonrobust                                                  \n=======================================================================================\n                          coef    std err          t      P>|t|      [0.025      0.975]\n---------------------------------------------------------------------------------------\nMean Temp (C)          -4.0705      2.549     -1.597      0.111      -9.083       0.942\nTotal Precip (mm)      -6.3372      2.297     -2.759      0.006     -10.853      -1.821\nAvg Rel Hum (%)         5.2501      1.107      4.741      0.000       3.073       7.428\nAvg Wind Spd (km/h)    17.0401      3.579      4.761      0.000      10.003      24.078\nDaylight (hrs)        -11.8151     11.264     -1.049      0.295     -33.966      10.336\nMean UV                -9.0041     15.878     -0.567      0.571     -40.228      22.220\n==============================================================================\nOmnibus:                      286.932   Durbin-Watson:                   0.967\nProb(Omnibus):                  0.000   Jarque-Bera (JB):             6288.111\nSkew:                           3.005   Prob(JB):                         0.00\nKurtosis:                      22.196   Cond. No.                         88.3\n==============================================================================\n\nNotes:\n[1] R² is computed without centering (uncentered) since the model does not contain a constant.\n[2] Standard Errors assume that the covariance matrix of the errors is correctly specified.\n"
     ]
    }
   ],
   "source": [
    "linreg(montrealdata)"
   ]
  },
  {
   "cell_type": "code",
   "execution_count": 7,
   "metadata": {},
   "outputs": [
    {
     "name": "stdout",
     "output_type": "stream",
     "text": [
      "                                 OLS Regression Results                                \n",
      "=======================================================================================\n",
      "Dep. Variable:                  Cases   R-squared (uncentered):                   0.507\n",
      "Model:                            OLS   Adj. R-squared (uncentered):              0.499\n",
      "Method:                 Least Squares   F-statistic:                              62.86\n",
      "Date:                Mon, 22 Feb 2021   Prob (F-statistic):                    2.06e-53\n",
      "Time:                        02:02:56   Log-Likelihood:                         -2611.7\n",
      "No. Observations:                 373   AIC:                                      5235.\n",
      "Df Residuals:                     367   BIC:                                      5259.\n",
      "Df Model:                           6                                                  \n",
      "Covariance Type:            nonrobust                                                  \n",
      "=======================================================================================\n",
      "                          coef    std err          t      P>|t|      [0.025      0.975]\n",
      "---------------------------------------------------------------------------------------\n",
      "Mean Temp (C)          -6.7887      2.819     -2.408      0.017     -12.332      -1.245\n",
      "Total Precip (mm)      -7.6675      3.513     -2.183      0.030     -14.575      -0.760\n",
      "Avg Rel Hum (%)         6.8343      1.129      6.056      0.000       4.615       9.054\n",
      "Avg Wind Spd (km/h)     0.7556      2.195      0.344      0.731      -3.562       5.073\n",
      "Daylight (hrs)        -11.5681     10.419     -1.110      0.268     -32.056       8.920\n",
      "Mean UV               -14.8388     13.245     -1.120      0.263     -40.884      11.207\n",
      "==============================================================================\n",
      "Omnibus:                      160.658   Durbin-Watson:                   0.656\n",
      "Prob(Omnibus):                  0.000   Jarque-Bera (JB):             1195.114\n",
      "Skew:                           1.639   Prob(JB):                    3.05e-260\n",
      "Kurtosis:                      11.133   Cond. No.                         90.0\n",
      "==============================================================================\n",
      "\n",
      "Notes:\n",
      "[1] R² is computed without centering (uncentered) since the model does not contain a constant.\n",
      "[2] Standard Errors assume that the covariance matrix of the errors is correctly specified.\n"
     ]
    }
   ],
   "source": [
    "linreg(torontodata)"
   ]
  },
  {
   "cell_type": "code",
   "execution_count": 10,
   "metadata": {},
   "outputs": [
    {
     "output_type": "stream",
     "name": "stdout",
     "text": [
      "                                 OLS Regression Results                                \n=======================================================================================\nDep. Variable:                  Cases   R-squared (uncentered):                   0.592\nModel:                            OLS   Adj. R-squared (uncentered):              0.586\nMethod:                 Least Squares   F-statistic:                              88.90\nDate:                Tue, 23 Feb 2021   Prob (F-statistic):                    1.82e-68\nTime:                        18:27:37   Log-Likelihood:                         -2400.6\nNo. Observations:                 373   AIC:                                      4813.\nDf Residuals:                     367   BIC:                                      4837.\nDf Model:                           6                                                  \nCovariance Type:            nonrobust                                                  \n=======================================================================================\n                          coef    std err          t      P>|t|      [0.025      0.975]\n---------------------------------------------------------------------------------------\nMean Temp (C)          -0.6282      1.407     -0.447      0.655      -3.395       2.138\nTotal Precip (mm)      -7.0459      2.029     -3.473      0.001     -11.035      -3.056\nAvg Rel Hum (%)         5.5656      0.638      8.730      0.000       4.312       6.819\nAvg Wind Spd (km/h)     2.0383      1.403      1.453      0.147      -0.720       4.796\nDaylight (hrs)        -18.5439      6.158     -3.011      0.003     -30.654      -6.434\nMean UV                -6.2235      7.904     -0.787      0.432     -21.766       9.319\n==============================================================================\nOmnibus:                        2.750   Durbin-Watson:                   0.275\nProb(Omnibus):                  0.253   Jarque-Bera (JB):                2.800\nSkew:                           0.183   Prob(JB):                        0.247\nKurtosis:                       2.784   Cond. No.                         89.7\n==============================================================================\n\nNotes:\n[1] R² is computed without centering (uncentered) since the model does not contain a constant.\n[2] Standard Errors assume that the covariance matrix of the errors is correctly specified.\n"
     ]
    }
   ],
   "source": [
    "linreg(peeldata)"
   ]
  },
  {
   "cell_type": "code",
   "execution_count": null,
   "metadata": {},
   "outputs": [],
   "source": []
  }
 ],
 "metadata": {
  "kernelspec": {
   "display_name": "Python 3",
   "language": "python",
   "name": "python3"
  },
  "language_info": {
   "codemirror_mode": {
    "name": "ipython",
    "version": 3
   },
   "file_extension": ".py",
   "mimetype": "text/x-python",
   "name": "python",
   "nbconvert_exporter": "python",
   "pygments_lexer": "ipython3",
   "version": "3.9.2-final"
  }
 },
 "nbformat": 4,
 "nbformat_minor": 2
}